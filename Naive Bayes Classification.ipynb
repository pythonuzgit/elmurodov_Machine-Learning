{
 "cells": [
  {
   "cell_type": "markdown",
   "metadata": {},
   "source": [
    "Defining Dataset"
   ]
  },
  {
   "cell_type": "code",
   "execution_count": 1,
   "metadata": {},
   "outputs": [
    {
     "name": "stdout",
     "output_type": "stream",
     "text": [
      "    Height  weight Tshirt_size\n",
      "0      145     red           s\n",
      "1      145  yellow           s\n",
      "2      146   black           s\n",
      "3      146     red           s\n",
      "4      147  yellow           s\n",
      "5      147   black           s\n",
      "6      149     red           s\n",
      "7      149  yellow           s\n",
      "8      149   black           s\n",
      "9      150     red           s\n",
      "10     150  yellow           s\n",
      "11     150   black           s\n",
      "12     158     red           m\n",
      "13     158  yellow           m\n",
      "14     158   black           m\n",
      "15     160     red           m\n",
      "16     160  yellow           m\n",
      "17     163   black           m\n",
      "18     163     red           m\n",
      "19     160  yellow           m\n",
      "20     163   black           m\n",
      "21     165     red           l\n",
      "22     165  yellow           l\n",
      "23     165   black           l\n",
      "24     168     red           l\n",
      "25     168  yellow           l\n",
      "26     168   black           l\n",
      "27     170     red           l\n",
      "28     170  yellow           l\n",
      "29     170   black           l\n"
     ]
    }
   ],
   "source": [
    "import pandas as pd\n",
    "\n",
    "\n",
    "df = pd.DataFrame([\n",
    "    [145, 'red', 's' ],\n",
    "    [145, 'yellow', 's' ],\n",
    "    [146, 'black', 's' ],\n",
    "    [146, 'red', 's' ],\n",
    "    [147, 'yellow', 's' ],\n",
    "    [147, 'black', 's' ],\n",
    "    [149, 'red', 's' ],\n",
    "    [149, 'yellow', 's' ],\n",
    "    [149, 'black', 's' ],\n",
    "    [150, 'red', 's' ],\n",
    "    [150, 'yellow', 's' ],\n",
    "    [150, 'black', 's' ],\n",
    "    [158, 'red', 'm' ],\n",
    "    [158, 'yellow', 'm' ],\n",
    "    [158, 'black', 'm' ],\n",
    "    [160, 'red', 'm' ],\n",
    "    [160, 'yellow', 'm' ],\n",
    "    [163, 'black', 'm' ],\n",
    "    [163, 'red', 'm' ],\n",
    "    [160, 'yellow', 'm' ],\n",
    "    [163, 'black', 'm' ],\n",
    "    [165, 'red', 'l' ],\n",
    "    [165, 'yellow', 'l' ],\n",
    "    [165, 'black', 'l' ],\n",
    "    [168, 'red', 'l' ],\n",
    "    [168, 'yellow', 'l' ],\n",
    "    [168, 'black', 'l' ],\n",
    "    [170, 'red', 'l' ],\n",
    "    [170, 'yellow', 'l' ],\n",
    "    [170, 'black', 'l' ] ])\n",
    "    \n",
    "\n",
    "\n",
    "    \n",
    "df.columns = ['Height', 'weight', 'Tshirt_size']\n",
    "print(df)"
   ]
  },
  {
   "cell_type": "markdown",
   "metadata": {},
   "source": [
    "Import LabelEncoder"
   ]
  },
  {
   "cell_type": "code",
   "execution_count": 3,
   "metadata": {},
   "outputs": [
    {
     "name": "stdout",
     "output_type": "stream",
     "text": [
      "    Height  weight Tshirt_size\n",
      "0      145       2           s\n",
      "1      145       1           s\n",
      "2      146       0           s\n",
      "3      146       2           s\n",
      "4      147       1           s\n",
      "5      147       0           s\n",
      "6      149       2           s\n",
      "7      149       1           s\n",
      "8      149       0           s\n",
      "9      150       2           s\n",
      "10     150       1           s\n",
      "11     150       0           s\n",
      "12     158       2           m\n",
      "13     158       1           m\n",
      "14     158       0           m\n",
      "15     160       2           m\n",
      "16     160       1           m\n",
      "17     163       0           m\n",
      "18     163       2           m\n",
      "19     160       1           m\n",
      "20     163       0           m\n",
      "21     165       2           l\n",
      "22     165       1           l\n",
      "23     165       0           l\n",
      "24     168       2           l\n",
      "25     168       1           l\n",
      "26     168       0           l\n",
      "27     170       2           l\n",
      "28     170       1           l\n",
      "29     170       0           l\n"
     ]
    }
   ],
   "source": [
    "weight_mapping = {\n",
    "    'red' : 2,\n",
    "   'yellow' : 1,\n",
    "    'black' : 0}\n",
    "df['weight'] = df['weight'].map(weight_mapping)\n",
    "print(df)"
   ]
  },
  {
   "cell_type": "code",
   "execution_count": 4,
   "metadata": {},
   "outputs": [
    {
     "name": "stdout",
     "output_type": "stream",
     "text": [
      "{'l': 0, 's': 2, 'm': 1}\n"
     ]
    }
   ],
   "source": [
    "import numpy as np\n",
    "\n",
    "weight_mapping = {label: idx for idx, label in\n",
    "                  enumerate(np.unique(df['Tshirt_size']))}\n",
    "print(weight_mapping)"
   ]
  },
  {
   "cell_type": "code",
   "execution_count": 5,
   "metadata": {},
   "outputs": [
    {
     "name": "stdout",
     "output_type": "stream",
     "text": [
      "    Height  weight  Tshirt_size\n",
      "0      145       2            2\n",
      "1      145       1            2\n",
      "2      146       0            2\n",
      "3      146       2            2\n",
      "4      147       1            2\n",
      "5      147       0            2\n",
      "6      149       2            2\n",
      "7      149       1            2\n",
      "8      149       0            2\n",
      "9      150       2            2\n",
      "10     150       1            2\n",
      "11     150       0            2\n",
      "12     158       2            1\n",
      "13     158       1            1\n",
      "14     158       0            1\n",
      "15     160       2            1\n",
      "16     160       1            1\n",
      "17     163       0            1\n",
      "18     163       2            1\n",
      "19     160       1            1\n",
      "20     163       0            1\n",
      "21     165       2            0\n",
      "22     165       1            0\n",
      "23     165       0            0\n",
      "24     168       2            0\n",
      "25     168       1            0\n",
      "26     168       0            0\n",
      "27     170       2            0\n",
      "28     170       1            0\n",
      "29     170       0            0\n"
     ]
    }
   ],
   "source": [
    "df['Tshirt_size'] = df['Tshirt_size'].map(weight_mapping)\n",
    "print(df)"
   ]
  },
  {
   "cell_type": "code",
   "execution_count": 6,
   "metadata": {},
   "outputs": [
    {
     "name": "stdout",
     "output_type": "stream",
     "text": [
      "[2 2 2 2 2 2 2 2 2 2 2 2 1 1 1 1 1 1 1 1 1 0 0 0 0 0 0 0 0 0]\n",
      "[2 1 0 2 1 0 2 1 0 2 1 0 2 1 0 2 1 0 2 1 0 2 1 0 2 1 0 2 1 0]\n"
     ]
    }
   ],
   "source": [
    "from sklearn.preprocessing import LabelEncoder\n",
    "le = LabelEncoder()\n",
    "\n",
    "X_train = le.fit_transform(df['Tshirt_size'].values)\n",
    "print(X_train)\n",
    "y_train =le.fit_transform(df['weight'].values)\n",
    "print(y_train)"
   ]
  },
  {
   "cell_type": "code",
   "execution_count": 7,
   "metadata": {},
   "outputs": [],
   "source": []
  },
  {
   "cell_type": "code",
   "execution_count": 8,
   "metadata": {},
   "outputs": [
    {
     "name": "stdout",
     "output_type": "stream",
     "text": [
      "[(2, 2), (2, 1), (2, 0), (2, 2), (2, 1), (2, 0), (2, 2), (2, 1), (2, 0), (2, 2), (2, 1), (2, 0), (1, 2), (1, 1), (1, 0), (1, 2), (1, 1), (1, 0), (1, 2), (1, 1), (1, 0), (0, 2), (0, 1), (0, 0), (0, 2), (0, 1), (0, 0), (0, 2), (0, 1), (0, 0)]\n"
     ]
    }
   ],
   "source": [
    "features=list(zip(X_train,y_train))\n",
    "\n",
    "print(features)"
   ]
  },
  {
   "cell_type": "markdown",
   "metadata": {},
   "source": [
    "Generating Model"
   ]
  },
  {
   "cell_type": "markdown",
   "metadata": {},
   "source": [
    "Generating a model using Naive Bayer Classifier"
   ]
  },
  {
   "cell_type": "markdown",
   "metadata": {},
   "source": [
    "Import Gaussian Naive Bayes model"
   ]
  },
  {
   "cell_type": "code",
   "execution_count": 13,
   "metadata": {},
   "outputs": [],
   "source": [
    "from sklearn.naive_bayes import GaussianNB"
   ]
  },
  {
   "cell_type": "markdown",
   "metadata": {},
   "source": [
    "Create a Gaussian Classifier"
   ]
  },
  {
   "cell_type": "code",
   "execution_count": 14,
   "metadata": {},
   "outputs": [],
   "source": [
    "model = GaussianNB()\n",
    "\n"
   ]
  },
  {
   "cell_type": "markdown",
   "metadata": {},
   "source": [
    "Train the model using the training sets"
   ]
  },
  {
   "cell_type": "code",
   "execution_count": 15,
   "metadata": {},
   "outputs": [
    {
     "data": {
      "text/plain": [
       "GaussianNB(priors=None, var_smoothing=1e-09)"
      ]
     },
     "execution_count": 15,
     "metadata": {},
     "output_type": "execute_result"
    }
   ],
   "source": [
    "model.fit(features, y_train)"
   ]
  },
  {
   "cell_type": "markdown",
   "metadata": {},
   "source": [
    "Predict Output"
   ]
  },
  {
   "cell_type": "code",
   "execution_count": 18,
   "metadata": {},
   "outputs": [
    {
     "name": "stdout",
     "output_type": "stream",
     "text": [
      "Predicted Value: [2]\n"
     ]
    }
   ],
   "source": [
    "predicted= model.predict([[0,2]])\n",
    "print(\"Predicted Value:\", predicted)"
   ]
  },
  {
   "cell_type": "code",
   "execution_count": null,
   "metadata": {},
   "outputs": [],
   "source": []
  }
 ],
 "metadata": {
  "kernelspec": {
   "display_name": "Python 3",
   "language": "python",
   "name": "python3"
  },
  "language_info": {
   "codemirror_mode": {
    "name": "ipython",
    "version": 3
   },
   "file_extension": ".py",
   "mimetype": "text/x-python",
   "name": "python",
   "nbconvert_exporter": "python",
   "pygments_lexer": "ipython3",
   "version": "3.5.2"
  }
 },
 "nbformat": 4,
 "nbformat_minor": 2
}
