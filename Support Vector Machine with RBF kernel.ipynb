{
 "cells": [
  {
   "cell_type": "markdown",
   "metadata": {},
   "source": [
    "Import Libraries"
   ]
  },
  {
   "cell_type": "code",
   "execution_count": 15,
   "metadata": {},
   "outputs": [],
   "source": [
    "import numpy as np\n",
    "import math\n",
    "import pandas as pd\n",
    "import matplotlib.pyplot as plt\n",
    "from sklearn import svm\n",
    "import sklearn.metrics as metric\n",
    "%matplotlib inline"
   ]
  },
  {
   "cell_type": "markdown",
   "metadata": {},
   "source": [
    "Dataset"
   ]
  },
  {
   "cell_type": "code",
   "execution_count": 16,
   "metadata": {},
   "outputs": [
    {
     "data": {
      "text/html": [
       "<div>\n",
       "<table border=\"1\" class=\"dataframe\">\n",
       "  <thead>\n",
       "    <tr style=\"text-align: right;\">\n",
       "      <th></th>\n",
       "      <th>Variance</th>\n",
       "      <th>Skewness</th>\n",
       "      <th>Curtosis</th>\n",
       "      <th>Entropy</th>\n",
       "      <th>Class</th>\n",
       "    </tr>\n",
       "  </thead>\n",
       "  <tbody>\n",
       "    <tr>\n",
       "      <th>0</th>\n",
       "      <td>3.62160</td>\n",
       "      <td>8.6661</td>\n",
       "      <td>-2.8073</td>\n",
       "      <td>-0.44699</td>\n",
       "      <td>-1</td>\n",
       "    </tr>\n",
       "    <tr>\n",
       "      <th>1</th>\n",
       "      <td>4.54590</td>\n",
       "      <td>8.1674</td>\n",
       "      <td>-2.4586</td>\n",
       "      <td>-1.46210</td>\n",
       "      <td>-1</td>\n",
       "    </tr>\n",
       "    <tr>\n",
       "      <th>2</th>\n",
       "      <td>3.86600</td>\n",
       "      <td>2.6383</td>\n",
       "      <td>1.9242</td>\n",
       "      <td>0.10645</td>\n",
       "      <td>-1</td>\n",
       "    </tr>\n",
       "    <tr>\n",
       "      <th>3</th>\n",
       "      <td>3.45660</td>\n",
       "      <td>9.5228</td>\n",
       "      <td>-4.0112</td>\n",
       "      <td>-3.59440</td>\n",
       "      <td>-1</td>\n",
       "    </tr>\n",
       "    <tr>\n",
       "      <th>4</th>\n",
       "      <td>0.32924</td>\n",
       "      <td>4.4552</td>\n",
       "      <td>4.5718</td>\n",
       "      <td>-0.98880</td>\n",
       "      <td>-1</td>\n",
       "    </tr>\n",
       "  </tbody>\n",
       "</table>\n",
       "</div>"
      ],
      "text/plain": [
       "   Variance  Skewness  Curtosis  Entropy  Class\n",
       "0   3.62160    8.6661   -2.8073 -0.44699     -1\n",
       "1   4.54590    8.1674   -2.4586 -1.46210     -1\n",
       "2   3.86600    2.6383    1.9242  0.10645     -1\n",
       "3   3.45660    9.5228   -4.0112 -3.59440     -1\n",
       "4   0.32924    4.4552    4.5718 -0.98880     -1"
      ]
     },
     "execution_count": 16,
     "metadata": {},
     "output_type": "execute_result"
    }
   ],
   "source": [
    "col_names = ['Variance', 'Skewness', 'Curtosis', 'Entropy', 'Class']\n",
    "    \n",
    "data = pd.read_csv(\"bill_authen.csv\", header=None, names=col_names)\n",
    "\n",
    "data.head()"
   ]
  },
  {
   "cell_type": "markdown",
   "metadata": {},
   "source": [
    "X_training and y_training"
   ]
  },
  {
   "cell_type": "code",
   "execution_count": 17,
   "metadata": {},
   "outputs": [
    {
     "data": {
      "text/plain": [
       "array([[  3.6216  ,   8.6661  ],\n",
       "       [  4.5459  ,   8.1674  ],\n",
       "       [  3.866   ,   2.6383  ],\n",
       "       [  3.4566  ,   9.5228  ],\n",
       "       [  0.32924 ,   4.4552  ],\n",
       "       [  4.3684  ,   9.6718  ],\n",
       "       [  3.5912  ,   3.0129  ],\n",
       "       [  2.0922  ,   6.81    ],\n",
       "       [  3.2032  ,   5.7588  ],\n",
       "       [  1.5356  ,   9.1772  ],\n",
       "       [  1.2247  ,   8.7779  ],\n",
       "       [  3.9899  ,   2.7066  ],\n",
       "       [  1.8993  ,   7.6625  ],\n",
       "       [ -1.5768  ,  10.843   ],\n",
       "       [  3.404   ,   8.7261  ],\n",
       "       [  4.6765  ,   3.3895  ],\n",
       "       [  2.6719  ,   3.0646  ],\n",
       "       [  0.80355 ,   2.8473  ],\n",
       "       [  1.4479  ,   4.8794  ],\n",
       "       [ -1.3971  ,   3.3191  ],\n",
       "       [  0.39012 ,   0.14279 ],\n",
       "       [ -1.6677  ,   7.1535  ],\n",
       "       [ -3.8483  ,  12.8047  ],\n",
       "       [ -3.5681  ,   8.213   ],\n",
       "       [ -2.2804  ,   0.30626 ],\n",
       "       [ -1.7582  ,   2.7397  ],\n",
       "       [ -0.89409 ,   3.1991  ],\n",
       "       [  0.3434  ,   0.12415 ],\n",
       "       [ -0.9854  ,   6.661   ],\n",
       "       [ -2.4115  ,   9.1359  ],\n",
       "       [ -1.5252  ,   6.2534  ],\n",
       "       [ -0.61442 ,   0.091058],\n",
       "       [ -0.36506 ,   2.8928  ],\n",
       "       [ -5.9034  ,   6.5679  ],\n",
       "       [ -1.8215  ,   2.7521  ],\n",
       "       [ -0.77461 ,   1.8768  ],\n",
       "       [ -1.8187  ,  -9.0366  ],\n",
       "       [ -3.5801  , -12.9309  ],\n",
       "       [ -1.8219  ,  -6.8824  ],\n",
       "       [ -0.3481  ,  -0.38696 ]])"
      ]
     },
     "execution_count": 17,
     "metadata": {},
     "output_type": "execute_result"
    }
   ],
   "source": [
    "X1 = data['Variance'] \n",
    "X2 = data['Skewness']\n",
    "\n",
    "X_training = np.array(list(zip(X1, X2)))\n",
    "X_training"
   ]
  },
  {
   "cell_type": "code",
   "execution_count": 18,
   "metadata": {},
   "outputs": [
    {
     "data": {
      "text/plain": [
       "0    -1\n",
       "1    -1\n",
       "2    -1\n",
       "3    -1\n",
       "4    -1\n",
       "5    -1\n",
       "6    -1\n",
       "7    -1\n",
       "8    -1\n",
       "9    -1\n",
       "10   -1\n",
       "11   -1\n",
       "12   -1\n",
       "13   -1\n",
       "14   -1\n",
       "15   -1\n",
       "16   -1\n",
       "17   -1\n",
       "18   -1\n",
       "19    1\n",
       "20    1\n",
       "21    1\n",
       "22    1\n",
       "23    1\n",
       "24    1\n",
       "25    1\n",
       "26    1\n",
       "27    1\n",
       "28    1\n",
       "29    1\n",
       "30    1\n",
       "31    1\n",
       "32    1\n",
       "33    1\n",
       "34    1\n",
       "35    1\n",
       "36    1\n",
       "37    1\n",
       "38    1\n",
       "39    1\n",
       "Name: Class, dtype: int64"
      ]
     },
     "execution_count": 18,
     "metadata": {},
     "output_type": "execute_result"
    }
   ],
   "source": [
    "y_training = data['Class']\n",
    "y_training"
   ]
  },
  {
   "cell_type": "code",
   "execution_count": 19,
   "metadata": {},
   "outputs": [
    {
     "data": {
      "text/plain": [
       "['-1', '+1']"
      ]
     },
     "execution_count": 19,
     "metadata": {},
     "output_type": "execute_result"
    }
   ],
   "source": [
    "target_names = ['-1', '+1']\n",
    "target_names"
   ]
  },
  {
   "cell_type": "code",
   "execution_count": 20,
   "metadata": {},
   "outputs": [
    {
     "data": {
      "text/plain": [
       "<matplotlib.text.Text at 0x7fc3ccc738d0>"
      ]
     },
     "execution_count": 20,
     "metadata": {},
     "output_type": "execute_result"
    },
    {
     "data": {
      "image/png": "[encoded data removed]",
      "text/plain": [
       "<matplotlib.figure.Figure at 0x7fc3ccda40b8>"
      ]
     },
     "metadata": {},
     "output_type": "display_data"
    }
   ],
   "source": [
    "xx = y_training[y_training < 0].index\n",
    "yy = y_training[y_training > 0].index\n",
    "\n",
    "plt.scatter(X_training[xx, 0], X_training[xx, 1], c = 'b', s = 50)\n",
    "plt.scatter(X_training[yy, 0], X_training[yy, 1], c = 'r', s = 50)\n",
    "plt.legend(target_names, loc = 3)\n",
    "plt.xlabel('X1')\n",
    "plt.ylabel('X2')"
   ]
  },
  {
   "cell_type": "markdown",
   "metadata": {},
   "source": [
    "Training"
   ]
  },
  {
   "cell_type": "code",
   "execution_count": 21,
   "metadata": {},
   "outputs": [
    {
     "data": {
      "text/plain": [
       "[-7, 6, -14, 14]"
      ]
     },
     "execution_count": 21,
     "metadata": {},
     "output_type": "execute_result"
    }
   ],
   "source": [
    "X1_min = math.floor(min(X_training[:, 0])) - 1\n",
    "X1_max = math.ceil(max(X_training[:, 0])) + 1\n",
    "X2_min = math.floor(min(X_training[:, 1])) - 1\n",
    "X2_max = math.ceil(max(X_training[:, 1])) + 1\n",
    "[X1_min, X1_max, X2_min, X2_max]"
   ]
  },
  {
   "cell_type": "markdown",
   "metadata": {},
   "source": [
    "Support Vector Machine training"
   ]
  },
  {
   "cell_type": "code",
   "execution_count": 22,
   "metadata": {},
   "outputs": [],
   "source": [
    "svc = svm.SVC(kernel='rbf',C=1, gamma=3).fit(X_training,y_training)"
   ]
  },
  {
   "cell_type": "code",
   "execution_count": 23,
   "metadata": {},
   "outputs": [
    {
     "data": {
      "text/plain": [
       "1.0"
      ]
     },
     "execution_count": 23,
     "metadata": {},
     "output_type": "execute_result"
    },
    {
     "data": {
      "image/png": "[encoded data removed]",
      "text/plain": [
       "<matplotlib.figure.Figure at 0x7fc3ccda4668>"
      ]
     },
     "metadata": {},
     "output_type": "display_data"
    }
   ],
   "source": [
    "xx = y_training[y_training < 0].index\n",
    "yy = y_training[y_training > 0].index\n",
    "\n",
    "plt.scatter(X_training[xx, 0], X_training[xx, 1], c = 'b', s = 50)\n",
    "plt.scatter(X_training[yy, 0], X_training[yy, 1], c = 'r', s = 50)\n",
    "\n",
    "plt.legend(['-1', '+1'], loc = 2)\n",
    "\n",
    "X, Y = np.mgrid[X1_min:X1_max:100j, X2_min:X2_max:100j]\n",
    "Z = svc.decision_function(np.c_[X.ravel(), Y.ravel()])\n",
    "Z = Z.reshape(X.shape)\n",
    "plt.contourf(X, Y, Z > 0, alpha = 0.4)\n",
    "\n",
    "plt.contour(X,Y,Z,colors=['k','k','k'], linestyles=['--','-','--'],levels=[-1,0,1])\n",
    "\n",
    "plt.scatter(svc.support_vectors_[:, 0], svc.support_vectors_[:, 1], s = 120, facecolors = 'none')\n",
    "plt.scatter(X_training[:, 0], X_training[:, 1], c = y_training, s =50, alpha = 0.95)\n",
    "\n",
    "plt.title('RBF Kernel gamma 1')\n",
    "\n",
    "svc.score(X_training,y_training)\n"
   ]
  },
  {
   "cell_type": "code",
   "execution_count": null,
   "metadata": {},
   "outputs": [],
   "source": []
  }
 ],
 "metadata": {
  "kernelspec": {
   "display_name": "Python 3",
   "language": "python",
   "name": "python3"
  },
  "language_info": {
   "codemirror_mode": {
    "name": "ipython",
    "version": 3
   },
   "file_extension": ".py",
   "mimetype": "text/x-python",
   "name": "python",
   "nbconvert_exporter": "python",
   "pygments_lexer": "ipython3",
   "version": "3.5.2"
  }
 },
 "nbformat": 4,
 "nbformat_minor": 2
}
