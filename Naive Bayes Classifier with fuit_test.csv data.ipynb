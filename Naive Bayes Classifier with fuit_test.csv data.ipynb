{
 "cells": [
  {
   "cell_type": "markdown",
   "metadata": {},
   "source": [
    "Import packages"
   ]
  },
  {
   "cell_type": "code",
   "execution_count": 30,
   "metadata": {},
   "outputs": [
    {
     "data": {
      "text/plain": [
       "<function seaborn.rcmod.set>"
      ]
     },
     "execution_count": 30,
     "metadata": {},
     "output_type": "execute_result"
    }
   ],
   "source": [
    "from sklearn.naive_bayes import GaussianNB\n",
    "from sklearn.model_selection import train_test_split\n",
    "from sklearn.metrics import confusion_matrix\n",
    "import numpy as np\n",
    "import pandas as pd\n",
    "import matplotlib.pyplot as plt\n",
    "import seaborn as sns; sns.set"
   ]
  },
  {
   "cell_type": "markdown",
   "metadata": {},
   "source": [
    "Import Data"
   ]
  },
  {
   "cell_type": "code",
   "execution_count": 31,
   "metadata": {},
   "outputs": [
    {
     "data": {
      "text/html": [
       "<div>\n",
       "<table border=\"1\" class=\"dataframe\">\n",
       "  <thead>\n",
       "    <tr style=\"text-align: right;\">\n",
       "      <th></th>\n",
       "      <th>fruit_name</th>\n",
       "      <th>fruit_subtype</th>\n",
       "      <th>mass</th>\n",
       "      <th>width</th>\n",
       "      <th>height</th>\n",
       "      <th>color_score</th>\n",
       "    </tr>\n",
       "  </thead>\n",
       "  <tbody>\n",
       "    <tr>\n",
       "      <th>0</th>\n",
       "      <td>apple</td>\n",
       "      <td>granny_smith</td>\n",
       "      <td>192</td>\n",
       "      <td>8.4</td>\n",
       "      <td>7.3</td>\n",
       "      <td>0.55</td>\n",
       "    </tr>\n",
       "    <tr>\n",
       "      <th>1</th>\n",
       "      <td>apple</td>\n",
       "      <td>granny_smith</td>\n",
       "      <td>180</td>\n",
       "      <td>8.0</td>\n",
       "      <td>6.8</td>\n",
       "      <td>0.59</td>\n",
       "    </tr>\n",
       "    <tr>\n",
       "      <th>2</th>\n",
       "      <td>apple</td>\n",
       "      <td>granny_smith</td>\n",
       "      <td>176</td>\n",
       "      <td>7.4</td>\n",
       "      <td>7.2</td>\n",
       "      <td>0.60</td>\n",
       "    </tr>\n",
       "    <tr>\n",
       "      <th>3</th>\n",
       "      <td>mandarin</td>\n",
       "      <td>mandarin</td>\n",
       "      <td>86</td>\n",
       "      <td>6.2</td>\n",
       "      <td>4.7</td>\n",
       "      <td>0.80</td>\n",
       "    </tr>\n",
       "    <tr>\n",
       "      <th>4</th>\n",
       "      <td>mandarin</td>\n",
       "      <td>mandarin</td>\n",
       "      <td>84</td>\n",
       "      <td>6.0</td>\n",
       "      <td>4.6</td>\n",
       "      <td>0.79</td>\n",
       "    </tr>\n",
       "  </tbody>\n",
       "</table>\n",
       "</div>"
      ],
      "text/plain": [
       "  fruit_name fruit_subtype  mass  width  height  color_score\n",
       "0      apple  granny_smith   192    8.4     7.3         0.55\n",
       "1      apple  granny_smith   180    8.0     6.8         0.59\n",
       "2      apple  granny_smith   176    7.4     7.2         0.60\n",
       "3   mandarin      mandarin    86    6.2     4.7         0.80\n",
       "4   mandarin      mandarin    84    6.0     4.6         0.79"
      ]
     },
     "execution_count": 31,
     "metadata": {},
     "output_type": "execute_result"
    }
   ],
   "source": [
    "col_names = ['fruit_name', 'fruit_subtype', 'mass', 'width', 'height', 'color_score']\n",
    "\n",
    "df = pd.read_csv(\"fruit_test111.csv\", header=None, names=col_names)\n",
    "df.head()"
   ]
  },
  {
   "cell_type": "code",
   "execution_count": null,
   "metadata": {},
   "outputs": [],
   "source": []
  },
  {
   "cell_type": "code",
   "execution_count": 32,
   "metadata": {},
   "outputs": [
    {
     "name": "stdout",
     "output_type": "stream",
     "text": [
      "    fruit_name     fruit_subtype  mass  width  height  color_score\n",
      "0            1      granny_smith   192    8.4     7.3         0.55\n",
      "1            1      granny_smith   180    8.0     6.8         0.59\n",
      "2            1      granny_smith   176    7.4     7.2         0.60\n",
      "3            2          mandarin    86    6.2     4.7         0.80\n",
      "4            2          mandarin    84    6.0     4.6         0.79\n",
      "5            2          mandarin    80    5.8     4.3         0.77\n",
      "6            1          braeburn   178    7.1     7.8         0.92\n",
      "7            1          braeburn   172    7.4     7.0         0.89\n",
      "8            1          braeburn   166    6.9     7.3         0.93\n",
      "9            1          braeburn   172    7.1     7.6         0.92\n",
      "10           1          braeburn   154    7.0     7.1         0.88\n",
      "11           1          braeburn   164    7.3     7.7         0.70\n",
      "12           1  golden_delicious   152    7.6     7.3         0.69\n",
      "13           1  golden_delicious   156    7.7     7.1         0.69\n",
      "14           1  golden_delicious   156    7.6     7.5         0.67\n",
      "15           1  golden_delicious   168    7.5     7.6         0.73\n",
      "16           1       cripps_pink   162    7.5     7.1         0.83\n",
      "17           1       cripps_pink   162    7.4     7.2         0.85\n",
      "18           1       cripps_pink   160    7.5     7.5         0.86\n",
      "19           1       cripps_pink   156    7.4     7.4         0.84\n",
      "20           1       cripps_pink   140    7.3     7.1         0.87\n",
      "21           1       cripps_pink   170    7.6     7.9         0.88\n",
      "22           3     spanish_jumbo   342    9.0     9.4         0.75\n",
      "23           3     spanish_jumbo   356    9.2     9.2         0.75\n",
      "24           3     spanish_jumbo   362    9.6     9.2         0.74\n",
      "25           3  selected_seconds   204    7.5     9.2         0.77\n",
      "26           3  selected_seconds   140    6.7     7.1         0.72\n",
      "27           3  selected_seconds   160    7.0     7.4         0.81\n",
      "28           3  selected_seconds   158    7.1     7.5         0.79\n",
      "29           3  selected_seconds   210    7.8     8.0         0.82\n",
      "30           3  selected_seconds   164    7.2     7.0         0.80\n",
      "31           3      turkey_navel   190    7.5     8.1         0.74\n",
      "32           3      turkey_navel   142    7.6     7.8         0.75\n",
      "33           3      turkey_navel   150    7.1     7.9         0.75\n",
      "34           3      turkey_navel   160    7.1     7.6         0.76\n",
      "35           3      turkey_navel   154    7.3     7.3         0.79\n",
      "36           3      turkey_navel   158    7.2     7.8         0.77\n",
      "37           3      turkey_navel   144    6.8     7.4         0.75\n",
      "38           3      turkey_navel   154    7.1     7.5         0.78\n",
      "39           3      turkey_navel   180    7.6     8.2         0.79\n",
      "40           3      turkey_navel   154    7.2     7.2         0.82\n",
      "41           4    spanish_belsan   194    7.2    10.3         0.70\n",
      "42           4    spanish_belsan   200    7.3    10.5         0.72\n",
      "43           4    spanish_belsan   186    7.2     9.2         0.72\n",
      "44           4    spanish_belsan   216    7.3    10.2         0.71\n",
      "45           4    spanish_belsan   196    7.3     9.7         0.72\n",
      "46           4    spanish_belsan   174    7.3    10.1         0.72\n"
     ]
    }
   ],
   "source": [
    "fruit_name_mapping = {\n",
    "    'lemon'  :   4,\n",
    "    'orange' :   3,\n",
    "    'mandarin' : 2,\n",
    "    'apple' :    1}\n",
    "\n",
    "df['fruit_name'] = df['fruit_name'].map(fruit_name_mapping)\n",
    "print(df)"
   ]
  },
  {
   "cell_type": "markdown",
   "metadata": {},
   "source": [
    "Create the training set and test"
   ]
  },
  {
   "cell_type": "code",
   "execution_count": 33,
   "metadata": {},
   "outputs": [],
   "source": [
    "xtrain = df.drop('fruit_subtype', axis = 1)\n",
    "ytrain = df.loc[:, 'fruit_subtype']\n",
    "\n",
    "xtest = df.drop('fruit_subtype', axis = 1)\n",
    "ytest = df.loc[:, 'fruit_subtype']"
   ]
  },
  {
   "cell_type": "markdown",
   "metadata": {},
   "source": [
    "The Gaussian Classifier"
   ]
  },
  {
   "cell_type": "code",
   "execution_count": 34,
   "metadata": {},
   "outputs": [],
   "source": [
    "model = GaussianNB()"
   ]
  },
  {
   "cell_type": "markdown",
   "metadata": {},
   "source": [
    "Train the model"
   ]
  },
  {
   "cell_type": "code",
   "execution_count": 35,
   "metadata": {},
   "outputs": [
    {
     "data": {
      "text/plain": [
       "GaussianNB(priors=None, var_smoothing=1e-09)"
      ]
     },
     "execution_count": 35,
     "metadata": {},
     "output_type": "execute_result"
    }
   ],
   "source": [
    "model.fit(xtrain, ytrain)"
   ]
  },
  {
   "cell_type": "markdown",
   "metadata": {},
   "source": [
    "Predict Output"
   ]
  },
  {
   "cell_type": "code",
   "execution_count": 36,
   "metadata": {},
   "outputs": [],
   "source": [
    "pred = model.predict(xtest)"
   ]
  },
  {
   "cell_type": "markdown",
   "metadata": {},
   "source": [
    "Plot confusion Matrix"
   ]
  },
  {
   "cell_type": "code",
   "execution_count": 37,
   "metadata": {},
   "outputs": [
    {
     "data": {
      "text/plain": [
       "<matplotlib.text.Text at 0x7efce7948390>"
      ]
     },
     "execution_count": 37,
     "metadata": {},
     "output_type": "execute_result"
    },
    {
     "data": {
      "image/png": "[encoded data removed]",
      "text/plain": [
       "<matplotlib.figure.Figure at 0x7efce7a2c518>"
      ]
     },
     "metadata": {},
     "output_type": "display_data"
    }
   ],
   "source": [
    "mat = confusion_matrix(pred, ytest)\n",
    "names = np.unique(pred)\n",
    "sns.heatmap(mat, square = True, annot = True, fmt = 'd', cbar = False,\n",
    "           xticklabels = names, yticklabels = names)\n",
    "plt.xlabel('Truth')\n",
    "plt.ylabel('Predicted')"
   ]
  },
  {
   "cell_type": "code",
   "execution_count": null,
   "metadata": {},
   "outputs": [],
   "source": []
  }
 ],
 "metadata": {
  "kernelspec": {
   "display_name": "Python 3",
   "language": "python",
   "name": "python3"
  },
  "language_info": {
   "codemirror_mode": {
    "name": "ipython",
    "version": 3
   },
   "file_extension": ".py",
   "mimetype": "text/x-python",
   "name": "python",
   "nbconvert_exporter": "python",
   "pygments_lexer": "ipython3",
   "version": "3.5.2"
  }
 },
 "nbformat": 4,
 "nbformat_minor": 2
}
