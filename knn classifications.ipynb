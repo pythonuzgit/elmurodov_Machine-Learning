{
 "cells": [
  {
   "cell_type": "code",
   "execution_count": 1,
   "metadata": {},
   "outputs": [
    {
     "name": "stdout",
     "output_type": "stream",
     "text": [
      "    temp   weather playlabel\n",
      "0    hot     sunny        no\n",
      "1    hot     sunny        no\n",
      "2    hot  overcast       yes\n",
      "3   mild     rainy       yes\n",
      "4   cool     rainy       yes\n",
      "5   cool     rainy        no\n",
      "6   cool  overcast       yes\n",
      "7   mild     sunny        no\n",
      "8   cool     sunny       yes\n",
      "9   mild     rainy       yes\n",
      "10  mild     sunny       yes\n",
      "11  mild  overcast       yes\n",
      "12   hot  overcast       yes\n",
      "13  mild     rainy        no\n"
     ]
    }
   ],
   "source": [
    "import pandas as pd\n",
    "\n",
    "df = pd.DataFrame([\n",
    "    ['hot','sunny', 'no'],\n",
    "    ['hot', 'sunny', 'no' ],\n",
    "    ['hot', 'overcast', 'yes'],\n",
    "    ['mild', 'rainy',  'yes'],\n",
    "    ['cool', 'rainy',  'yes'],\n",
    "    ['cool', 'rainy', 'no'],\n",
    "    ['cool', 'overcast', 'yes'],\n",
    "    ['mild', 'sunny', 'no'],\n",
    "    ['cool', 'sunny', 'yes'],\n",
    "    ['mild', 'rainy', 'yes'],\n",
    "    ['mild', 'sunny', 'yes'],\n",
    "    ['mild', 'overcast','yes'],\n",
    "    ['hot', 'overcast', 'yes'],\n",
    "    ['mild', 'rainy', 'no']])\n",
    "\n",
    "df.columns = ['temp', 'weather', 'playlabel']\n",
    "print(df)"
   ]
  },
  {
   "cell_type": "code",
   "execution_count": 2,
   "metadata": {},
   "outputs": [
    {
     "name": "stdout",
     "output_type": "stream",
     "text": [
      "    temp  weather playlabel\n",
      "0    hot        2        no\n",
      "1    hot        2        no\n",
      "2    hot        0       yes\n",
      "3   mild        1       yes\n",
      "4   cool        1       yes\n",
      "5   cool        1        no\n",
      "6   cool        0       yes\n",
      "7   mild        2        no\n",
      "8   cool        2       yes\n",
      "9   mild        1       yes\n",
      "10  mild        2       yes\n",
      "11  mild        0       yes\n",
      "12   hot        0       yes\n",
      "13  mild        1        no\n"
     ]
    }
   ],
   "source": [
    "weather_mapping = {\n",
    "    'sunny' : 2,\n",
    "    'rainy' : 1,\n",
    "    'overcast' : 0}\n",
    "df['weather'] = df['weather'].map(weather_mapping)\n",
    "print(df)"
   ]
  },
  {
   "cell_type": "code",
   "execution_count": 3,
   "metadata": {},
   "outputs": [
    {
     "name": "stdout",
     "output_type": "stream",
     "text": [
      "{'no': 0, 'yes': 1}\n"
     ]
    }
   ],
   "source": [
    "import numpy as np\n",
    "\n",
    "weather_mapping = {label: idx for idx, label in\n",
    "                  enumerate(np.unique(df['playlabel']))}\n",
    "print(weather_mapping)"
   ]
  },
  {
   "cell_type": "code",
   "execution_count": 4,
   "metadata": {},
   "outputs": [
    {
     "name": "stdout",
     "output_type": "stream",
     "text": [
      "    temp  weather  playlabel\n",
      "0    hot        2          0\n",
      "1    hot        2          0\n",
      "2    hot        0          1\n",
      "3   mild        1          1\n",
      "4   cool        1          1\n",
      "5   cool        1          0\n",
      "6   cool        0          1\n",
      "7   mild        2          0\n",
      "8   cool        2          1\n",
      "9   mild        1          1\n",
      "10  mild        2          1\n",
      "11  mild        0          1\n",
      "12   hot        0          1\n",
      "13  mild        1          0\n"
     ]
    }
   ],
   "source": [
    "df['playlabel'] = df['playlabel'].map(weather_mapping)\n",
    "print(df)"
   ]
  },
  {
   "cell_type": "code",
   "execution_count": 5,
   "metadata": {},
   "outputs": [
    {
     "name": "stdout",
     "output_type": "stream",
     "text": [
      "    temp  weather playlabel\n",
      "0    hot        2        no\n",
      "1    hot        2        no\n",
      "2    hot        0       yes\n",
      "3   mild        1       yes\n",
      "4   cool        1       yes\n",
      "5   cool        1        no\n",
      "6   cool        0       yes\n",
      "7   mild        2        no\n",
      "8   cool        2       yes\n",
      "9   mild        1       yes\n",
      "10  mild        2       yes\n",
      "11  mild        0       yes\n",
      "12   hot        0       yes\n",
      "13  mild        1        no\n"
     ]
    }
   ],
   "source": [
    "inv_class_mapping = {v: k for k, v in weather_mapping.items()}\n",
    "df['playlabel'] = df['playlabel'].map(inv_class_mapping)\n",
    "print(df)"
   ]
  },
  {
   "cell_type": "code",
   "execution_count": 6,
   "metadata": {},
   "outputs": [
    {
     "name": "stdout",
     "output_type": "stream",
     "text": [
      "[2 2 0 1 1 1 0 2 2 1 2 0 0 1]\n"
     ]
    }
   ],
   "source": [
    "from sklearn.preprocessing import LabelEncoder\n",
    "le = LabelEncoder()\n",
    "\n",
    "weather_encoded = le.fit_transform(df['weather'].values)\n",
    "print(weather_encoded)"
   ]
  },
  {
   "cell_type": "code",
   "execution_count": 7,
   "metadata": {},
   "outputs": [
    {
     "name": "stdout",
     "output_type": "stream",
     "text": [
      "[1 1 1 2 0 0 0 2 0 2 2 2 1 2]\n",
      "[0 0 1 1 1 0 1 0 1 1 1 1 1 0]\n"
     ]
    }
   ],
   "source": [
    "temp_encoded=le.fit_transform(df['temp'].values)\n",
    "print(temp_encoded)\n",
    "label=le.fit_transform(df['playlabel'].values)\n",
    "print(label)"
   ]
  },
  {
   "cell_type": "code",
   "execution_count": 8,
   "metadata": {},
   "outputs": [],
   "source": [
    "features=list(zip(weather_encoded,temp_encoded))"
   ]
  },
  {
   "cell_type": "code",
   "execution_count": 9,
   "metadata": {},
   "outputs": [
    {
     "data": {
      "text/plain": [
       "KNeighborsClassifier(algorithm='auto', leaf_size=30, metric='minkowski',\n",
       "           metric_params=None, n_jobs=None, n_neighbors=3, p=2,\n",
       "           weights='uniform')"
      ]
     },
     "execution_count": 9,
     "metadata": {},
     "output_type": "execute_result"
    }
   ],
   "source": [
    "from sklearn.neighbors import KNeighborsClassifier\n",
    "\n",
    "model = KNeighborsClassifier(n_neighbors = 3)\n",
    "\n",
    "model.fit(features, label)"
   ]
  },
  {
   "cell_type": "code",
   "execution_count": 10,
   "metadata": {},
   "outputs": [
    {
     "name": "stdout",
     "output_type": "stream",
     "text": [
      "[1]\n"
     ]
    }
   ],
   "source": [
    "predicted= model.predict([[0,2]])   # 0 : Overcast, 2 : Mild\n",
    "print(predicted)"
   ]
  },
  {
   "cell_type": "code",
   "execution_count": 13,
   "metadata": {},
   "outputs": [
    {
     "data": {
      "image/png": "[encoded data removed]",
      "text/plain": [
       "<matplotlib.figure.Figure at 0x7ff52159f588>"
      ]
     },
     "metadata": {},
     "output_type": "display_data"
    }
   ],
   "source": [
    "import matplotlib\n",
    "import matplotlib.pyplot as plt\n",
    "fig = plt.figure()\n",
    "ax = fig.add_subplot(111)\n",
    "ax.scatter(weather_encoded[1], temp_encoded[2])\n",
    "plt.show()"
   ]
  },
  {
   "cell_type": "code",
   "execution_count": null,
   "metadata": {},
   "outputs": [],
   "source": []
  }
 ],
 "metadata": {
  "kernelspec": {
   "display_name": "Python 3",
   "language": "python",
   "name": "python3"
  },
  "language_info": {
   "codemirror_mode": {
    "name": "ipython",
    "version": 3
   },
   "file_extension": ".py",
   "mimetype": "text/x-python",
   "name": "python",
   "nbconvert_exporter": "python",
   "pygments_lexer": "ipython3",
   "version": "3.5.2"
  }
 },
 "nbformat": 4,
 "nbformat_minor": 2
}
